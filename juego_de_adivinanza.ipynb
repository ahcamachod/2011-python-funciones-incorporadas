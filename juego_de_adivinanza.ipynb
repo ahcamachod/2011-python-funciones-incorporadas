{
  "nbformat": 4,
  "nbformat_minor": 0,
  "metadata": {
    "colab": {
      "provenance": [],
      "authorship_tag": "ABX9TyMcaBLBcZF+PwfQje/lbhfX",
      "include_colab_link": true
    },
    "kernelspec": {
      "name": "python3",
      "display_name": "Python 3"
    },
    "language_info": {
      "name": "python"
    }
  },
  "cells": [
    {
      "cell_type": "markdown",
      "metadata": {
        "id": "view-in-github",
        "colab_type": "text"
      },
      "source": [
        "<a href=\"https://colab.research.google.com/github/ahcamachod/2011-python-funciones-incorporadas/blob/main/juego_de_adivinanza.ipynb\" target=\"_parent\"><img src=\"https://colab.research.google.com/assets/colab-badge.svg\" alt=\"Open In Colab\"/></a>"
      ]
    },
    {
      "cell_type": "code",
      "source": [
        "print(\"**********************\")\n",
        "print(\"  Adivina el numero\")\n",
        "print(\"**********************\")\n",
        "\n",
        "numero_secreto = 55\n",
        "total_intentos = 3\n",
        "intento = 1\n",
        "\n",
        "while (total_intentos >= intento):\n",
        "  #print(\"Intento {} de {}\".format(intento, total_intentos))\n",
        "  print(f\"Intento {intento} de {total_intentos}\")\n",
        "  entrada_str = input(\"Digita un número: \")\n",
        "  entrada = int(entrada_str)\n",
        "  print(\"El número que digitaste: \",entrada)\n",
        "\n",
        "\n",
        "  acerto = numero_secreto == entrada\n",
        "  mayor = entrada > numero_secreto\n",
        "  menor = entrada < numero_secreto\n",
        "  if (acerto):\n",
        "    print(\"Has acertado el número!\")\n",
        "  else:\n",
        "    if (mayor):\n",
        "      print(\"El número no corresponde! El número que ingresaste es mayor.\")\n",
        "    elif (menor):\n",
        "      print(\"El número no corresponde! El número que ingresaste es menor.\")\n",
        "  intento = intento + 1\n",
        "\n",
        "print(\"El juego ha concluído!\")"
      ],
      "metadata": {
        "id": "nwCr9hUs4Vwk"
      },
      "execution_count": null,
      "outputs": []
    },
    {
      "cell_type": "code",
      "source": [
        "print(\"****************************************\")\n",
        "print(\"**********Adivina el Número*************\")\n",
        "print(\"****************************************\")\n",
        "\n",
        "numero_secreto = 55\n",
        "total_intentos = 3\n",
        "\n",
        "for intento in range(1, total_intentos + 1):\n",
        "  print(\"Intento {} de {}\".format(intento, total_intentos))\n",
        "  entrada_str = input(\"Digita un número mayor que 0 y menor o igual a 100: \")\n",
        "  entrada = int(entrada_str)\n",
        "\n",
        "  if (entrada < 1 or entrada > 100):\n",
        "    print(\"¡Debes ingresar un número entre 1 y 100!\")\n",
        "    continue\n",
        "    \n",
        "  print(\"El número que digitaste: \", entrada)\n",
        "\n",
        "  acerto = numero_secreto == entrada\n",
        "  mayor = entrada > numero_secreto\n",
        "  menor = entrada < numero_secreto\n",
        "\n",
        "  if (acerto):\n",
        "    print(\"Has acertado el número!\")\n",
        "    break\n",
        "  else:\n",
        "    if (mayor):\n",
        "      print(\"El número no corresponde! El número que ingresaste es mayor.\")\n",
        "    elif (menor):\n",
        "      print(\"El número no corresponde! El número que ingresaste es menor.\")\n",
        "  \n",
        "\n",
        "print(\"El juego ha concluído!\")"
      ],
      "metadata": {
        "id": "FIuqa5Dn6SBk"
      },
      "execution_count": null,
      "outputs": []
    }
  ]
}